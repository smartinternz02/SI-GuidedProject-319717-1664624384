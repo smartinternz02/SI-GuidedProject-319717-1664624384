{
 "cells": [
  {
   "cell_type": "code",
   "execution_count": 98,
   "id": "1c40fa44",
   "metadata": {},
   "outputs": [],
   "source": [
    "import pandas as pd\n",
    "import numpy as np\n",
    "import matplotlib.pyplot as plt\n",
    "import seaborn as sns"
   ]
  },
  {
   "cell_type": "code",
   "execution_count": 99,
   "id": "99f9d906",
   "metadata": {},
   "outputs": [],
   "source": [
    "dt = pd.read_csv(r\"C:\\Users\\jagad\\Dropbox\\PC\\Downloads\\DATASET\\application_record.csv\")\n",
    "df = pd.read_csv(r\"C:\\Users\\jagad\\Dropbox\\PC\\Downloads\\DATASET\\credit_record.csv\")"
   ]
  },
  {
   "cell_type": "code",
   "execution_count": 100,
   "id": "5ffb074c",
   "metadata": {},
   "outputs": [
    {
     "data": {
      "text/html": [
       "<div>\n",
       "<style scoped>\n",
       "    .dataframe tbody tr th:only-of-type {\n",
       "        vertical-align: middle;\n",
       "    }\n",
       "\n",
       "    .dataframe tbody tr th {\n",
       "        vertical-align: top;\n",
       "    }\n",
       "\n",
       "    .dataframe thead th {\n",
       "        text-align: right;\n",
       "    }\n",
       "</style>\n",
       "<table border=\"1\" class=\"dataframe\">\n",
       "  <thead>\n",
       "    <tr style=\"text-align: right;\">\n",
       "      <th></th>\n",
       "      <th>ID</th>\n",
       "      <th>CODE_GENDER</th>\n",
       "      <th>FLAG_OWN_CAR</th>\n",
       "      <th>FLAG_OWN_REALTY</th>\n",
       "      <th>CNT_CHILDREN</th>\n",
       "      <th>AMT_INCOME_TOTAL</th>\n",
       "      <th>NAME_INCOME_TYPE</th>\n",
       "      <th>NAME_EDUCATION_TYPE</th>\n",
       "      <th>NAME_FAMILY_STATUS</th>\n",
       "      <th>NAME_HOUSING_TYPE</th>\n",
       "      <th>DAYS_BIRTH</th>\n",
       "      <th>DAYS_EMPLOYED</th>\n",
       "      <th>FLAG_MOBIL</th>\n",
       "      <th>FLAG_WORK_PHONE</th>\n",
       "      <th>FLAG_PHONE</th>\n",
       "      <th>FLAG_EMAIL</th>\n",
       "      <th>OCCUPATION_TYPE</th>\n",
       "      <th>CNT_FAM_MEMBERS</th>\n",
       "    </tr>\n",
       "  </thead>\n",
       "  <tbody>\n",
       "    <tr>\n",
       "      <th>0</th>\n",
       "      <td>5008804</td>\n",
       "      <td>M</td>\n",
       "      <td>Y</td>\n",
       "      <td>Y</td>\n",
       "      <td>0</td>\n",
       "      <td>427500.0</td>\n",
       "      <td>Working</td>\n",
       "      <td>Higher education</td>\n",
       "      <td>Civil marriage</td>\n",
       "      <td>Rented apartment</td>\n",
       "      <td>-12005</td>\n",
       "      <td>-4542</td>\n",
       "      <td>1</td>\n",
       "      <td>1</td>\n",
       "      <td>0</td>\n",
       "      <td>0</td>\n",
       "      <td>NaN</td>\n",
       "      <td>2.0</td>\n",
       "    </tr>\n",
       "    <tr>\n",
       "      <th>1</th>\n",
       "      <td>5008805</td>\n",
       "      <td>M</td>\n",
       "      <td>Y</td>\n",
       "      <td>Y</td>\n",
       "      <td>0</td>\n",
       "      <td>427500.0</td>\n",
       "      <td>Working</td>\n",
       "      <td>Higher education</td>\n",
       "      <td>Civil marriage</td>\n",
       "      <td>Rented apartment</td>\n",
       "      <td>-12005</td>\n",
       "      <td>-4542</td>\n",
       "      <td>1</td>\n",
       "      <td>1</td>\n",
       "      <td>0</td>\n",
       "      <td>0</td>\n",
       "      <td>NaN</td>\n",
       "      <td>2.0</td>\n",
       "    </tr>\n",
       "    <tr>\n",
       "      <th>2</th>\n",
       "      <td>5008806</td>\n",
       "      <td>M</td>\n",
       "      <td>Y</td>\n",
       "      <td>Y</td>\n",
       "      <td>0</td>\n",
       "      <td>112500.0</td>\n",
       "      <td>Working</td>\n",
       "      <td>Secondary / secondary special</td>\n",
       "      <td>Married</td>\n",
       "      <td>House / apartment</td>\n",
       "      <td>-21474</td>\n",
       "      <td>-1134</td>\n",
       "      <td>1</td>\n",
       "      <td>0</td>\n",
       "      <td>0</td>\n",
       "      <td>0</td>\n",
       "      <td>Security staff</td>\n",
       "      <td>2.0</td>\n",
       "    </tr>\n",
       "    <tr>\n",
       "      <th>3</th>\n",
       "      <td>5008808</td>\n",
       "      <td>F</td>\n",
       "      <td>N</td>\n",
       "      <td>Y</td>\n",
       "      <td>0</td>\n",
       "      <td>270000.0</td>\n",
       "      <td>Commercial associate</td>\n",
       "      <td>Secondary / secondary special</td>\n",
       "      <td>Single / not married</td>\n",
       "      <td>House / apartment</td>\n",
       "      <td>-19110</td>\n",
       "      <td>-3051</td>\n",
       "      <td>1</td>\n",
       "      <td>0</td>\n",
       "      <td>1</td>\n",
       "      <td>1</td>\n",
       "      <td>Sales staff</td>\n",
       "      <td>1.0</td>\n",
       "    </tr>\n",
       "    <tr>\n",
       "      <th>4</th>\n",
       "      <td>5008809</td>\n",
       "      <td>F</td>\n",
       "      <td>N</td>\n",
       "      <td>Y</td>\n",
       "      <td>0</td>\n",
       "      <td>270000.0</td>\n",
       "      <td>Commercial associate</td>\n",
       "      <td>Secondary / secondary special</td>\n",
       "      <td>Single / not married</td>\n",
       "      <td>House / apartment</td>\n",
       "      <td>-19110</td>\n",
       "      <td>-3051</td>\n",
       "      <td>1</td>\n",
       "      <td>0</td>\n",
       "      <td>1</td>\n",
       "      <td>1</td>\n",
       "      <td>Sales staff</td>\n",
       "      <td>1.0</td>\n",
       "    </tr>\n",
       "  </tbody>\n",
       "</table>\n",
       "</div>"
      ],
      "text/plain": [
       "        ID CODE_GENDER FLAG_OWN_CAR FLAG_OWN_REALTY  CNT_CHILDREN  \\\n",
       "0  5008804           M            Y               Y             0   \n",
       "1  5008805           M            Y               Y             0   \n",
       "2  5008806           M            Y               Y             0   \n",
       "3  5008808           F            N               Y             0   \n",
       "4  5008809           F            N               Y             0   \n",
       "\n",
       "   AMT_INCOME_TOTAL      NAME_INCOME_TYPE            NAME_EDUCATION_TYPE  \\\n",
       "0          427500.0               Working               Higher education   \n",
       "1          427500.0               Working               Higher education   \n",
       "2          112500.0               Working  Secondary / secondary special   \n",
       "3          270000.0  Commercial associate  Secondary / secondary special   \n",
       "4          270000.0  Commercial associate  Secondary / secondary special   \n",
       "\n",
       "     NAME_FAMILY_STATUS  NAME_HOUSING_TYPE  DAYS_BIRTH  DAYS_EMPLOYED  \\\n",
       "0        Civil marriage   Rented apartment      -12005          -4542   \n",
       "1        Civil marriage   Rented apartment      -12005          -4542   \n",
       "2               Married  House / apartment      -21474          -1134   \n",
       "3  Single / not married  House / apartment      -19110          -3051   \n",
       "4  Single / not married  House / apartment      -19110          -3051   \n",
       "\n",
       "   FLAG_MOBIL  FLAG_WORK_PHONE  FLAG_PHONE  FLAG_EMAIL OCCUPATION_TYPE  \\\n",
       "0           1                1           0           0             NaN   \n",
       "1           1                1           0           0             NaN   \n",
       "2           1                0           0           0  Security staff   \n",
       "3           1                0           1           1     Sales staff   \n",
       "4           1                0           1           1     Sales staff   \n",
       "\n",
       "   CNT_FAM_MEMBERS  \n",
       "0              2.0  \n",
       "1              2.0  \n",
       "2              2.0  \n",
       "3              1.0  \n",
       "4              1.0  "
      ]
     },
     "execution_count": 100,
     "metadata": {},
     "output_type": "execute_result"
    }
   ],
   "source": [
    "dt.head()"
   ]
  },
  {
   "cell_type": "code",
   "execution_count": 101,
   "id": "afa671ae",
   "metadata": {},
   "outputs": [
    {
     "data": {
      "text/html": [
       "<div>\n",
       "<style scoped>\n",
       "    .dataframe tbody tr th:only-of-type {\n",
       "        vertical-align: middle;\n",
       "    }\n",
       "\n",
       "    .dataframe tbody tr th {\n",
       "        vertical-align: top;\n",
       "    }\n",
       "\n",
       "    .dataframe thead th {\n",
       "        text-align: right;\n",
       "    }\n",
       "</style>\n",
       "<table border=\"1\" class=\"dataframe\">\n",
       "  <thead>\n",
       "    <tr style=\"text-align: right;\">\n",
       "      <th></th>\n",
       "      <th>ID</th>\n",
       "      <th>MONTHS_BALANCE</th>\n",
       "      <th>STATUS</th>\n",
       "    </tr>\n",
       "  </thead>\n",
       "  <tbody>\n",
       "    <tr>\n",
       "      <th>0</th>\n",
       "      <td>5001711</td>\n",
       "      <td>0</td>\n",
       "      <td>X</td>\n",
       "    </tr>\n",
       "    <tr>\n",
       "      <th>1</th>\n",
       "      <td>5001711</td>\n",
       "      <td>-1</td>\n",
       "      <td>0</td>\n",
       "    </tr>\n",
       "    <tr>\n",
       "      <th>2</th>\n",
       "      <td>5001711</td>\n",
       "      <td>-2</td>\n",
       "      <td>0</td>\n",
       "    </tr>\n",
       "    <tr>\n",
       "      <th>3</th>\n",
       "      <td>5001711</td>\n",
       "      <td>-3</td>\n",
       "      <td>0</td>\n",
       "    </tr>\n",
       "    <tr>\n",
       "      <th>4</th>\n",
       "      <td>5001712</td>\n",
       "      <td>0</td>\n",
       "      <td>C</td>\n",
       "    </tr>\n",
       "  </tbody>\n",
       "</table>\n",
       "</div>"
      ],
      "text/plain": [
       "        ID  MONTHS_BALANCE STATUS\n",
       "0  5001711               0      X\n",
       "1  5001711              -1      0\n",
       "2  5001711              -2      0\n",
       "3  5001711              -3      0\n",
       "4  5001712               0      C"
      ]
     },
     "execution_count": 101,
     "metadata": {},
     "output_type": "execute_result"
    }
   ],
   "source": [
    "df.head()"
   ]
  },
  {
   "cell_type": "code",
   "execution_count": 102,
   "id": "44765396",
   "metadata": {},
   "outputs": [
    {
     "data": {
      "text/html": [
       "<div>\n",
       "<style scoped>\n",
       "    .dataframe tbody tr th:only-of-type {\n",
       "        vertical-align: middle;\n",
       "    }\n",
       "\n",
       "    .dataframe tbody tr th {\n",
       "        vertical-align: top;\n",
       "    }\n",
       "\n",
       "    .dataframe thead th {\n",
       "        text-align: right;\n",
       "    }\n",
       "</style>\n",
       "<table border=\"1\" class=\"dataframe\">\n",
       "  <thead>\n",
       "    <tr style=\"text-align: right;\">\n",
       "      <th></th>\n",
       "      <th>ID</th>\n",
       "      <th>CNT_CHILDREN</th>\n",
       "      <th>AMT_INCOME_TOTAL</th>\n",
       "      <th>DAYS_BIRTH</th>\n",
       "      <th>DAYS_EMPLOYED</th>\n",
       "      <th>FLAG_MOBIL</th>\n",
       "      <th>FLAG_WORK_PHONE</th>\n",
       "      <th>FLAG_PHONE</th>\n",
       "      <th>FLAG_EMAIL</th>\n",
       "      <th>CNT_FAM_MEMBERS</th>\n",
       "    </tr>\n",
       "  </thead>\n",
       "  <tbody>\n",
       "    <tr>\n",
       "      <th>count</th>\n",
       "      <td>4.385570e+05</td>\n",
       "      <td>438557.000000</td>\n",
       "      <td>4.385570e+05</td>\n",
       "      <td>438557.000000</td>\n",
       "      <td>438557.000000</td>\n",
       "      <td>438557.0</td>\n",
       "      <td>438557.000000</td>\n",
       "      <td>438557.000000</td>\n",
       "      <td>438557.000000</td>\n",
       "      <td>438557.000000</td>\n",
       "    </tr>\n",
       "    <tr>\n",
       "      <th>mean</th>\n",
       "      <td>6.022176e+06</td>\n",
       "      <td>0.427390</td>\n",
       "      <td>1.875243e+05</td>\n",
       "      <td>-15997.904649</td>\n",
       "      <td>60563.675328</td>\n",
       "      <td>1.0</td>\n",
       "      <td>0.206133</td>\n",
       "      <td>0.287771</td>\n",
       "      <td>0.108207</td>\n",
       "      <td>2.194465</td>\n",
       "    </tr>\n",
       "    <tr>\n",
       "      <th>std</th>\n",
       "      <td>5.716370e+05</td>\n",
       "      <td>0.724882</td>\n",
       "      <td>1.100869e+05</td>\n",
       "      <td>4185.030007</td>\n",
       "      <td>138767.799647</td>\n",
       "      <td>0.0</td>\n",
       "      <td>0.404527</td>\n",
       "      <td>0.452724</td>\n",
       "      <td>0.310642</td>\n",
       "      <td>0.897207</td>\n",
       "    </tr>\n",
       "    <tr>\n",
       "      <th>min</th>\n",
       "      <td>5.008804e+06</td>\n",
       "      <td>0.000000</td>\n",
       "      <td>2.610000e+04</td>\n",
       "      <td>-25201.000000</td>\n",
       "      <td>-17531.000000</td>\n",
       "      <td>1.0</td>\n",
       "      <td>0.000000</td>\n",
       "      <td>0.000000</td>\n",
       "      <td>0.000000</td>\n",
       "      <td>1.000000</td>\n",
       "    </tr>\n",
       "    <tr>\n",
       "      <th>25%</th>\n",
       "      <td>5.609375e+06</td>\n",
       "      <td>0.000000</td>\n",
       "      <td>1.215000e+05</td>\n",
       "      <td>-19483.000000</td>\n",
       "      <td>-3103.000000</td>\n",
       "      <td>1.0</td>\n",
       "      <td>0.000000</td>\n",
       "      <td>0.000000</td>\n",
       "      <td>0.000000</td>\n",
       "      <td>2.000000</td>\n",
       "    </tr>\n",
       "    <tr>\n",
       "      <th>50%</th>\n",
       "      <td>6.047745e+06</td>\n",
       "      <td>0.000000</td>\n",
       "      <td>1.607805e+05</td>\n",
       "      <td>-15630.000000</td>\n",
       "      <td>-1467.000000</td>\n",
       "      <td>1.0</td>\n",
       "      <td>0.000000</td>\n",
       "      <td>0.000000</td>\n",
       "      <td>0.000000</td>\n",
       "      <td>2.000000</td>\n",
       "    </tr>\n",
       "    <tr>\n",
       "      <th>75%</th>\n",
       "      <td>6.456971e+06</td>\n",
       "      <td>1.000000</td>\n",
       "      <td>2.250000e+05</td>\n",
       "      <td>-12514.000000</td>\n",
       "      <td>-371.000000</td>\n",
       "      <td>1.0</td>\n",
       "      <td>0.000000</td>\n",
       "      <td>1.000000</td>\n",
       "      <td>0.000000</td>\n",
       "      <td>3.000000</td>\n",
       "    </tr>\n",
       "    <tr>\n",
       "      <th>max</th>\n",
       "      <td>7.999952e+06</td>\n",
       "      <td>19.000000</td>\n",
       "      <td>6.750000e+06</td>\n",
       "      <td>-7489.000000</td>\n",
       "      <td>365243.000000</td>\n",
       "      <td>1.0</td>\n",
       "      <td>1.000000</td>\n",
       "      <td>1.000000</td>\n",
       "      <td>1.000000</td>\n",
       "      <td>20.000000</td>\n",
       "    </tr>\n",
       "  </tbody>\n",
       "</table>\n",
       "</div>"
      ],
      "text/plain": [
       "                 ID   CNT_CHILDREN  AMT_INCOME_TOTAL     DAYS_BIRTH  \\\n",
       "count  4.385570e+05  438557.000000      4.385570e+05  438557.000000   \n",
       "mean   6.022176e+06       0.427390      1.875243e+05  -15997.904649   \n",
       "std    5.716370e+05       0.724882      1.100869e+05    4185.030007   \n",
       "min    5.008804e+06       0.000000      2.610000e+04  -25201.000000   \n",
       "25%    5.609375e+06       0.000000      1.215000e+05  -19483.000000   \n",
       "50%    6.047745e+06       0.000000      1.607805e+05  -15630.000000   \n",
       "75%    6.456971e+06       1.000000      2.250000e+05  -12514.000000   \n",
       "max    7.999952e+06      19.000000      6.750000e+06   -7489.000000   \n",
       "\n",
       "       DAYS_EMPLOYED  FLAG_MOBIL  FLAG_WORK_PHONE     FLAG_PHONE  \\\n",
       "count  438557.000000    438557.0    438557.000000  438557.000000   \n",
       "mean    60563.675328         1.0         0.206133       0.287771   \n",
       "std    138767.799647         0.0         0.404527       0.452724   \n",
       "min    -17531.000000         1.0         0.000000       0.000000   \n",
       "25%     -3103.000000         1.0         0.000000       0.000000   \n",
       "50%     -1467.000000         1.0         0.000000       0.000000   \n",
       "75%      -371.000000         1.0         0.000000       1.000000   \n",
       "max    365243.000000         1.0         1.000000       1.000000   \n",
       "\n",
       "          FLAG_EMAIL  CNT_FAM_MEMBERS  \n",
       "count  438557.000000    438557.000000  \n",
       "mean        0.108207         2.194465  \n",
       "std         0.310642         0.897207  \n",
       "min         0.000000         1.000000  \n",
       "25%         0.000000         2.000000  \n",
       "50%         0.000000         2.000000  \n",
       "75%         0.000000         3.000000  \n",
       "max         1.000000        20.000000  "
      ]
     },
     "execution_count": 102,
     "metadata": {},
     "output_type": "execute_result"
    }
   ],
   "source": [
    "dt.describe()"
   ]
  },
  {
   "cell_type": "code",
   "execution_count": 103,
   "id": "4fe70cb2",
   "metadata": {},
   "outputs": [
    {
     "name": "stdout",
     "output_type": "stream",
     "text": [
      "<class 'pandas.core.frame.DataFrame'>\n",
      "RangeIndex: 438557 entries, 0 to 438556\n",
      "Data columns (total 18 columns):\n",
      " #   Column               Non-Null Count   Dtype  \n",
      "---  ------               --------------   -----  \n",
      " 0   ID                   438557 non-null  int64  \n",
      " 1   CODE_GENDER          438557 non-null  object \n",
      " 2   FLAG_OWN_CAR         438557 non-null  object \n",
      " 3   FLAG_OWN_REALTY      438557 non-null  object \n",
      " 4   CNT_CHILDREN         438557 non-null  int64  \n",
      " 5   AMT_INCOME_TOTAL     438557 non-null  float64\n",
      " 6   NAME_INCOME_TYPE     438557 non-null  object \n",
      " 7   NAME_EDUCATION_TYPE  438557 non-null  object \n",
      " 8   NAME_FAMILY_STATUS   438557 non-null  object \n",
      " 9   NAME_HOUSING_TYPE    438557 non-null  object \n",
      " 10  DAYS_BIRTH           438557 non-null  int64  \n",
      " 11  DAYS_EMPLOYED        438557 non-null  int64  \n",
      " 12  FLAG_MOBIL           438557 non-null  int64  \n",
      " 13  FLAG_WORK_PHONE      438557 non-null  int64  \n",
      " 14  FLAG_PHONE           438557 non-null  int64  \n",
      " 15  FLAG_EMAIL           438557 non-null  int64  \n",
      " 16  OCCUPATION_TYPE      304354 non-null  object \n",
      " 17  CNT_FAM_MEMBERS      438557 non-null  float64\n",
      "dtypes: float64(2), int64(8), object(8)\n",
      "memory usage: 60.2+ MB\n"
     ]
    }
   ],
   "source": [
    "dt.info()"
   ]
  },
  {
   "cell_type": "code",
   "execution_count": 104,
   "id": "21d136f2",
   "metadata": {},
   "outputs": [
    {
     "data": {
      "text/html": [
       "<div>\n",
       "<style scoped>\n",
       "    .dataframe tbody tr th:only-of-type {\n",
       "        vertical-align: middle;\n",
       "    }\n",
       "\n",
       "    .dataframe tbody tr th {\n",
       "        vertical-align: top;\n",
       "    }\n",
       "\n",
       "    .dataframe thead th {\n",
       "        text-align: right;\n",
       "    }\n",
       "</style>\n",
       "<table border=\"1\" class=\"dataframe\">\n",
       "  <thead>\n",
       "    <tr style=\"text-align: right;\">\n",
       "      <th></th>\n",
       "      <th>ID</th>\n",
       "      <th>MONTHS_BALANCE</th>\n",
       "    </tr>\n",
       "  </thead>\n",
       "  <tbody>\n",
       "    <tr>\n",
       "      <th>count</th>\n",
       "      <td>1.048575e+06</td>\n",
       "      <td>1.048575e+06</td>\n",
       "    </tr>\n",
       "    <tr>\n",
       "      <th>mean</th>\n",
       "      <td>5.068286e+06</td>\n",
       "      <td>-1.913700e+01</td>\n",
       "    </tr>\n",
       "    <tr>\n",
       "      <th>std</th>\n",
       "      <td>4.615058e+04</td>\n",
       "      <td>1.402350e+01</td>\n",
       "    </tr>\n",
       "    <tr>\n",
       "      <th>min</th>\n",
       "      <td>5.001711e+06</td>\n",
       "      <td>-6.000000e+01</td>\n",
       "    </tr>\n",
       "    <tr>\n",
       "      <th>25%</th>\n",
       "      <td>5.023644e+06</td>\n",
       "      <td>-2.900000e+01</td>\n",
       "    </tr>\n",
       "    <tr>\n",
       "      <th>50%</th>\n",
       "      <td>5.062104e+06</td>\n",
       "      <td>-1.700000e+01</td>\n",
       "    </tr>\n",
       "    <tr>\n",
       "      <th>75%</th>\n",
       "      <td>5.113856e+06</td>\n",
       "      <td>-7.000000e+00</td>\n",
       "    </tr>\n",
       "    <tr>\n",
       "      <th>max</th>\n",
       "      <td>5.150487e+06</td>\n",
       "      <td>0.000000e+00</td>\n",
       "    </tr>\n",
       "  </tbody>\n",
       "</table>\n",
       "</div>"
      ],
      "text/plain": [
       "                 ID  MONTHS_BALANCE\n",
       "count  1.048575e+06    1.048575e+06\n",
       "mean   5.068286e+06   -1.913700e+01\n",
       "std    4.615058e+04    1.402350e+01\n",
       "min    5.001711e+06   -6.000000e+01\n",
       "25%    5.023644e+06   -2.900000e+01\n",
       "50%    5.062104e+06   -1.700000e+01\n",
       "75%    5.113856e+06   -7.000000e+00\n",
       "max    5.150487e+06    0.000000e+00"
      ]
     },
     "execution_count": 104,
     "metadata": {},
     "output_type": "execute_result"
    }
   ],
   "source": [
    "df.describe()"
   ]
  },
  {
   "cell_type": "code",
   "execution_count": 105,
   "id": "da08c072",
   "metadata": {},
   "outputs": [
    {
     "name": "stdout",
     "output_type": "stream",
     "text": [
      "<class 'pandas.core.frame.DataFrame'>\n",
      "RangeIndex: 1048575 entries, 0 to 1048574\n",
      "Data columns (total 3 columns):\n",
      " #   Column          Non-Null Count    Dtype \n",
      "---  ------          --------------    ----- \n",
      " 0   ID              1048575 non-null  int64 \n",
      " 1   MONTHS_BALANCE  1048575 non-null  int64 \n",
      " 2   STATUS          1048575 non-null  object\n",
      "dtypes: int64(2), object(1)\n",
      "memory usage: 24.0+ MB\n"
     ]
    }
   ],
   "source": [
    "df.info()"
   ]
  },
  {
   "cell_type": "code",
   "execution_count": 106,
   "id": "6726b8c2",
   "metadata": {},
   "outputs": [
    {
     "name": "stderr",
     "output_type": "stream",
     "text": [
      "C:\\Users\\jagad\\anaconda3\\lib\\site-packages\\seaborn\\_decorators.py:36: FutureWarning: Pass the following variable as a keyword arg: x. From version 0.12, the only valid positional argument will be `data`, and passing other arguments without an explicit keyword will result in an error or misinterpretation.\n",
      "  warnings.warn(\n"
     ]
    },
    {
     "data": {
      "text/plain": [
       "<AxesSubplot:xlabel='OCCUPATION_TYPE', ylabel='count'>"
      ]
     },
     "execution_count": 106,
     "metadata": {},
     "output_type": "execute_result"
    },
    {
     "data": {
      "image/png": "[encoded data removed]",
      "text/plain": [
       "<Figure size 432x288 with 1 Axes>"
      ]
     },
     "metadata": {
      "needs_background": "light"
     },
     "output_type": "display_data"
    }
   ],
   "source": [
    "sns.countplot('OCCUPATION_TYPE',data=dt)"
   ]
  },
  {
   "cell_type": "code",
   "execution_count": 107,
   "id": "8e212bc3",
   "metadata": {},
   "outputs": [
    {
     "name": "stderr",
     "output_type": "stream",
     "text": [
      "C:\\Users\\jagad\\anaconda3\\lib\\site-packages\\seaborn\\_decorators.py:36: FutureWarning: Pass the following variable as a keyword arg: x. From version 0.12, the only valid positional argument will be `data`, and passing other arguments without an explicit keyword will result in an error or misinterpretation.\n",
      "  warnings.warn(\n"
     ]
    },
    {
     "data": {
      "text/plain": [
       "<AxesSubplot:xlabel='NAME_HOUSING_TYPE', ylabel='count'>"
      ]
     },
     "execution_count": 107,
     "metadata": {},
     "output_type": "execute_result"
    },
    {
     "data": {
      "image/png": "[encoded data removed]",
      "text/plain": [
       "<Figure size 432x288 with 1 Axes>"
      ]
     },
     "metadata": {
      "needs_background": "light"
     },
     "output_type": "display_data"
    }
   ],
   "source": [
    "sns.countplot('NAME_HOUSING_TYPE',data=dt)"
   ]
  },
  {
   "cell_type": "code",
   "execution_count": 108,
   "id": "b23db5d7",
   "metadata": {},
   "outputs": [
    {
     "name": "stderr",
     "output_type": "stream",
     "text": [
      "C:\\Users\\jagad\\anaconda3\\lib\\site-packages\\seaborn\\_decorators.py:36: FutureWarning: Pass the following variable as a keyword arg: x. From version 0.12, the only valid positional argument will be `data`, and passing other arguments without an explicit keyword will result in an error or misinterpretation.\n",
      "  warnings.warn(\n"
     ]
    },
    {
     "data": {
      "text/plain": [
       "<AxesSubplot:xlabel='NAME_INCOME_TYPE', ylabel='count'>"
      ]
     },
     "execution_count": 108,
     "metadata": {},
     "output_type": "execute_result"
    },
    {
     "data": {
      "image/png": "[encoded data removed]",
      "text/plain": [
       "<Figure size 432x288 with 1 Axes>"
      ]
     },
     "metadata": {
      "needs_background": "light"
     },
     "output_type": "display_data"
    }
   ],
   "source": [
    "sns.countplot('NAME_INCOME_TYPE',data=dt)"
   ]
  },
  {
   "cell_type": "code",
   "execution_count": 109,
   "id": "55483ea4",
   "metadata": {},
   "outputs": [
    {
     "data": {
      "text/plain": [
       "<AxesSubplot:>"
      ]
     },
     "execution_count": 109,
     "metadata": {},
     "output_type": "execute_result"
    },
    {
     "data": {
      "image/png": "[encoded data removed]",
      "text/plain": [
       "<Figure size 432x288 with 2 Axes>"
      ]
     },
     "metadata": {
      "needs_background": "light"
     },
     "output_type": "display_data"
    }
   ],
   "source": [
    "sns.heatmap(dt.corr(),annot=True)"
   ]
  },
  {
   "cell_type": "code",
   "execution_count": 110,
   "id": "7d5f9ffa",
   "metadata": {},
   "outputs": [
    {
     "data": {
      "text/plain": [
       "array([5008804, 5008805, 5008806, ..., 6841878, 6842765, 6842885],\n",
       "      dtype=int64)"
      ]
     },
     "execution_count": 110,
     "metadata": {},
     "output_type": "execute_result"
    }
   ],
   "source": [
    "dt['ID'].unique()"
   ]
  },
  {
   "cell_type": "code",
   "execution_count": 111,
   "id": "bed71126",
   "metadata": {},
   "outputs": [],
   "source": [
    "#Dropping duplicate rows\n",
    "dt.drop_duplicates(subset = ['CODE_GENDER','FLAG_OWN_CAR','CNT_CHILDREN','AMT_INCOME_TOTAL','NAME_INCOME_TYPE',\n",
    "                            'NAME_EDUCATION_TYPE','NAME_FAMILY_STATUS','NAME_HOUSING_TYPE','DAYS_BIRTH','DAYS_EMPLOYED',\n",
    "                            'FLAG_MOBIL','FLAG_WORK_PHONE','FLAG_PHONE','FLAG_EMAIL','OCCUPATION_TYPE','CNT_FAM_MEMBERS'],keep='first',\n",
    "                  inplace=True)"
   ]
  },
  {
   "cell_type": "code",
   "execution_count": 112,
   "id": "c2d21dc6",
   "metadata": {},
   "outputs": [
    {
     "data": {
      "text/plain": [
       "ID                         0\n",
       "CODE_GENDER                0\n",
       "FLAG_OWN_CAR               0\n",
       "FLAG_OWN_REALTY            0\n",
       "CNT_CHILDREN               0\n",
       "AMT_INCOME_TOTAL           0\n",
       "NAME_INCOME_TYPE           0\n",
       "NAME_EDUCATION_TYPE        0\n",
       "NAME_FAMILY_STATUS         0\n",
       "NAME_HOUSING_TYPE          0\n",
       "DAYS_BIRTH                 0\n",
       "DAYS_EMPLOYED              0\n",
       "FLAG_MOBIL                 0\n",
       "FLAG_WORK_PHONE            0\n",
       "FLAG_PHONE                 0\n",
       "FLAG_EMAIL                 0\n",
       "OCCUPATION_TYPE        27383\n",
       "CNT_FAM_MEMBERS            0\n",
       "dtype: int64"
      ]
     },
     "execution_count": 112,
     "metadata": {},
     "output_type": "execute_result"
    }
   ],
   "source": [
    "dt.isnull().sum()"
   ]
  },
  {
   "cell_type": "code",
   "execution_count": 113,
   "id": "469e7687",
   "metadata": {},
   "outputs": [],
   "source": [
    "dt['OCCUPATION_TYPE'].fillna(value=\"Laborers\",inplace=True)"
   ]
  },
  {
   "cell_type": "code",
   "execution_count": 114,
   "id": "954d610d",
   "metadata": {},
   "outputs": [
    {
     "data": {
      "text/plain": [
       "ID                     0\n",
       "CODE_GENDER            0\n",
       "FLAG_OWN_CAR           0\n",
       "FLAG_OWN_REALTY        0\n",
       "CNT_CHILDREN           0\n",
       "AMT_INCOME_TOTAL       0\n",
       "NAME_INCOME_TYPE       0\n",
       "NAME_EDUCATION_TYPE    0\n",
       "NAME_FAMILY_STATUS     0\n",
       "NAME_HOUSING_TYPE      0\n",
       "DAYS_BIRTH             0\n",
       "DAYS_EMPLOYED          0\n",
       "FLAG_MOBIL             0\n",
       "FLAG_WORK_PHONE        0\n",
       "FLAG_PHONE             0\n",
       "FLAG_EMAIL             0\n",
       "OCCUPATION_TYPE        0\n",
       "CNT_FAM_MEMBERS        0\n",
       "dtype: int64"
      ]
     },
     "execution_count": 114,
     "metadata": {},
     "output_type": "execute_result"
    }
   ],
   "source": [
    "dt.isnull().sum()"
   ]
  },
  {
   "cell_type": "code",
   "execution_count": 115,
   "id": "a424b8b6",
   "metadata": {},
   "outputs": [],
   "source": [
    "# Adding number of family members with number of children to get overall family members. data[ 'CNT_FAM_MEMBERS'] = data['CNT_FAM_MEMBERS'] + data[\"CNT_CHILDREN']\n",
    "def data_clean(data):\n",
    "    data['CNT_FAM_MEMBERS'] = data['CNT_FAM_MEMBERS'] + data['CNT_CHILDREN']\n",
    "    dropped_cols = ['FLAG_MOBIL', 'FLAG_WORK_PHONE', 'FLAG_PHONE','FLAG_EMAIL', 'OCCUPATION_TYPE', 'CNT_CHILDREN']\n",
    "    data = data.drop(dropped_cols, axis = 1)\n",
    "#converting birth years and days employed to years. data[ 'DAYS_BIRTH'] = np.abs(data[ DAYS_BIRTH']/365) #Absolute datas 'DAYS EMPLOYED] = data['DAYS EMPLOYED 1/365\n",
    "#Cleaning up categorical values to lower the count of dummy variables. housing type = { 'House / apartment' : 'House / apartment,\n",
    "    housing_type = {'House / apartment':'House / apartment','With parents': 'With parents', 'Municipal apartment': 'House / apartment', 'Rented apartment': 'House / apartment', 'Office apartment': 'House / apartment', 'Co-op apartment': 'House / apartment' }\n",
    "    income_type = { 'Commercial associate': 'Working','State servant': 'Working', 'Working': 'Working', 'Pensioner': 'Pensioner','Student':'Student'}\n",
    "    education_type = { 'Secondary / secondary special':'secondary','Lower secondary': 'secondary', 'Higher education': 'Higher education', 'Incomplete higher': 'Higher education','Academic degree': 'Academic degree'}\n",
    "    family_status = {'Single / not married': 'Single','Separated': 'Single', 'Widow': 'Single', 'Civil marriage': 'Married','Married': 'Married'} \n",
    "    data['NAME_HOUSING_TYPE'] = data['NAME_HOUSING_TYPE'].map(housing_type)\n",
    "    data['NAME_INCOME_TYPE'] = data['NAME_INCOME_TYPE'].map(income_type) \n",
    "    data['NAME_EDUCATION_TYPE']=data['NAME_EDUCATION_TYPE'].map(education_type)\n",
    "    data['NAME_FAMILY_STATUS']=data['NAME_FAMILY_STATUS'].map(family_status) \n",
    "    return data"
   ]
  },
  {
   "cell_type": "code",
   "execution_count": 116,
   "id": "11bc594f",
   "metadata": {},
   "outputs": [],
   "source": [
    "dt= data_clean(dt)"
   ]
  },
  {
   "cell_type": "code",
   "execution_count": 117,
   "id": "4b5668bf",
   "metadata": {},
   "outputs": [
    {
     "data": {
      "text/plain": [
       "(89840, 12)"
      ]
     },
     "execution_count": 117,
     "metadata": {},
     "output_type": "execute_result"
    }
   ],
   "source": [
    "dt.shape"
   ]
  },
  {
   "cell_type": "code",
   "execution_count": 118,
   "id": "81a94f14",
   "metadata": {},
   "outputs": [
    {
     "data": {
      "text/plain": [
       "ID                0\n",
       "MONTHS_BALANCE    0\n",
       "STATUS            0\n",
       "dtype: int64"
      ]
     },
     "execution_count": 118,
     "metadata": {},
     "output_type": "execute_result"
    }
   ],
   "source": [
    "df.isnull().sum()"
   ]
  },
  {
   "cell_type": "code",
   "execution_count": 119,
   "id": "46f410f5",
   "metadata": {},
   "outputs": [],
   "source": [
    "# for credict dataset\n",
    "g = df.groupby('ID')\n",
    "p = df.pivot(index = 'ID',columns = 'MONTHS_BALANCE',values = 'STATUS')\n",
    "p['OPEN_MONTH'] = g['MONTHS_BALANCE'].min() #0\n",
    "p['END_MONTH'] = g['MONTHS_BALANCE'].max() #0\n",
    "p['WINDOW'] = p['END_MONTH'] - p['OPEN_MONTH']\n",
    "p['WINDOW'] = p['WINDOW'] + 1 # ADDING BECAUSE MONTH STARTS AT 0"
   ]
  },
  {
   "cell_type": "code",
   "execution_count": 120,
   "id": "299a72b5",
   "metadata": {},
   "outputs": [
    {
     "data": {
      "text/plain": [
       "(45985, 64)"
      ]
     },
     "execution_count": 120,
     "metadata": {},
     "output_type": "execute_result"
    }
   ],
   "source": [
    "#counting number of past dues, paid offs and no loans\n",
    "p.shape"
   ]
  },
  {
   "cell_type": "code",
   "execution_count": 121,
   "id": "1780a638",
   "metadata": {},
   "outputs": [],
   "source": [
    "p['paid_off'] = p[p.iloc[:,0:61] == 'C'].count(axis=1)\n",
    "p['pastdue_1-29'] = p[p.iloc[:,0:61] == '0'].count(axis=1)\n",
    "p['pastdue_30-59'] = p[p.iloc[:,0:61] == '1'].count(axis=1)\n",
    "p['pastdue_60-89'] = p[p.iloc[:,0:61] == '2'].count(axis=1)\n",
    "p['pastdue_90-119'] = p[p.iloc[:,0:61] == '3'].count(axis=1)\n",
    "p['pastdue_120-149'] = p[p.iloc[:,0:61] == '4'].count(axis=1)\n",
    "p['pastdue_over_150'] = p[p.iloc[:,0:61] == '5'].count(axis=1)\n",
    "p['no_loan'] = p[p.iloc[:,0:61] == 'X'].count(axis=1)\n",
    "p['ID'] = p.index\n"
   ]
  },
  {
   "cell_type": "code",
   "execution_count": 122,
   "id": "74171480",
   "metadata": {},
   "outputs": [],
   "source": [
    "def feature_engineering_target(data):\n",
    "    good_or_bad = []\n",
    "    for index, row in data.iterrows():\n",
    "        paid_off = row['paid_off']\n",
    "        over_1 = row[\"pastdue_1-29\"]\n",
    "        over_30 = row['pastdue_30-59']\n",
    "        over_60 = row['pastdue_60-89']\n",
    "        over_90 = row['pastdue_90-119']\n",
    "        over_120 = row['pastdue_120-149'] + row['pastdue_over_150']\n",
    "        no_loan = row['no_loan']\n",
    "        overall_pastdues = over_1+over_30+over_60+over_90+over_120\n",
    "        if overall_pastdues == 0: \n",
    "            if paid_off >= no_loan or paid_off <= no_loan:\n",
    "                good_or_bad.append(1)\n",
    "            elif paid_off == 0 and no_loan == 1:\n",
    "                good_or_bad.append(1)\n",
    "        elif overall_pastdues != 0 :\n",
    "            if paid_off > overall_pastdues :\n",
    "                good_or_bad.append(1)\n",
    "            elif paid_off <= overall_pastdues :\n",
    "                good_or_bad.append(0)\n",
    "        elif paid_off == 0 and no_loan != 0 :\n",
    "            if overall_pastdues <- no_loan or overall_pastdues >= no_loan:\n",
    "                good_or_bad.append(0)\n",
    "        else:\n",
    "            good_or_bad.append(1)\n",
    "    return good_or_bad\n",
    "\n"
   ]
  },
  {
   "cell_type": "code",
   "execution_count": 123,
   "id": "c5ebf5f9",
   "metadata": {},
   "outputs": [],
   "source": [
    "target = pd.DataFrame()\n",
    "target['ID'] = p.index \n",
    "target['paid off'] = p['paid_off'].values\n",
    "target['#_of_pastdues'] = p['pastdue_1-29'].values+ p['pastdue_30-59'].values \n",
    "+ p['pastdue_60-89'].values +p['pastdue_90-119'].values \n",
    "+p['pastdue_120-149'].values +p['pastdue_over_150'].values\n",
    "target['no_loan'] = p['no_loan'].values\n",
    "target['target'] = feature_engineering_target(p)\n",
    "m= dt.merge(target, how = 'inner', on = 'ID') \n",
    "m.drop('ID', axis = 1, inplace = True)"
   ]
  },
  {
   "cell_type": "code",
   "execution_count": 124,
   "id": "f5aadb36",
   "metadata": {},
   "outputs": [
    {
     "data": {
      "text/html": [
       "<div>\n",
       "<style scoped>\n",
       "    .dataframe tbody tr th:only-of-type {\n",
       "        vertical-align: middle;\n",
       "    }\n",
       "\n",
       "    .dataframe tbody tr th {\n",
       "        vertical-align: top;\n",
       "    }\n",
       "\n",
       "    .dataframe thead th {\n",
       "        text-align: right;\n",
       "    }\n",
       "</style>\n",
       "<table border=\"1\" class=\"dataframe\">\n",
       "  <thead>\n",
       "    <tr style=\"text-align: right;\">\n",
       "      <th></th>\n",
       "      <th>CODE_GENDER</th>\n",
       "      <th>FLAG_OWN_CAR</th>\n",
       "      <th>FLAG_OWN_REALTY</th>\n",
       "      <th>AMT_INCOME_TOTAL</th>\n",
       "      <th>NAME_INCOME_TYPE</th>\n",
       "      <th>NAME_EDUCATION_TYPE</th>\n",
       "      <th>NAME_FAMILY_STATUS</th>\n",
       "      <th>NAME_HOUSING_TYPE</th>\n",
       "      <th>DAYS_BIRTH</th>\n",
       "      <th>DAYS_EMPLOYED</th>\n",
       "      <th>CNT_FAM_MEMBERS</th>\n",
       "      <th>paid off</th>\n",
       "      <th>#_of_pastdues</th>\n",
       "      <th>no_loan</th>\n",
       "      <th>target</th>\n",
       "    </tr>\n",
       "  </thead>\n",
       "  <tbody>\n",
       "    <tr>\n",
       "      <th>0</th>\n",
       "      <td>M</td>\n",
       "      <td>Y</td>\n",
       "      <td>Y</td>\n",
       "      <td>427500.0</td>\n",
       "      <td>Working</td>\n",
       "      <td>Higher education</td>\n",
       "      <td>Married</td>\n",
       "      <td>House / apartment</td>\n",
       "      <td>-12005</td>\n",
       "      <td>-4542</td>\n",
       "      <td>2.0</td>\n",
       "      <td>13</td>\n",
       "      <td>2</td>\n",
       "      <td>1</td>\n",
       "      <td>1</td>\n",
       "    </tr>\n",
       "    <tr>\n",
       "      <th>1</th>\n",
       "      <td>M</td>\n",
       "      <td>Y</td>\n",
       "      <td>Y</td>\n",
       "      <td>112500.0</td>\n",
       "      <td>Working</td>\n",
       "      <td>secondary</td>\n",
       "      <td>Married</td>\n",
       "      <td>House / apartment</td>\n",
       "      <td>-21474</td>\n",
       "      <td>-1134</td>\n",
       "      <td>2.0</td>\n",
       "      <td>7</td>\n",
       "      <td>7</td>\n",
       "      <td>16</td>\n",
       "      <td>0</td>\n",
       "    </tr>\n",
       "    <tr>\n",
       "      <th>2</th>\n",
       "      <td>F</td>\n",
       "      <td>N</td>\n",
       "      <td>Y</td>\n",
       "      <td>270000.0</td>\n",
       "      <td>Working</td>\n",
       "      <td>secondary</td>\n",
       "      <td>Single</td>\n",
       "      <td>House / apartment</td>\n",
       "      <td>-19110</td>\n",
       "      <td>-3051</td>\n",
       "      <td>1.0</td>\n",
       "      <td>0</td>\n",
       "      <td>2</td>\n",
       "      <td>3</td>\n",
       "      <td>0</td>\n",
       "    </tr>\n",
       "    <tr>\n",
       "      <th>3</th>\n",
       "      <td>F</td>\n",
       "      <td>N</td>\n",
       "      <td>Y</td>\n",
       "      <td>283500.0</td>\n",
       "      <td>Pensioner</td>\n",
       "      <td>Higher education</td>\n",
       "      <td>Single</td>\n",
       "      <td>House / apartment</td>\n",
       "      <td>-22464</td>\n",
       "      <td>365243</td>\n",
       "      <td>1.0</td>\n",
       "      <td>0</td>\n",
       "      <td>14</td>\n",
       "      <td>3</td>\n",
       "      <td>0</td>\n",
       "    </tr>\n",
       "    <tr>\n",
       "      <th>4</th>\n",
       "      <td>M</td>\n",
       "      <td>Y</td>\n",
       "      <td>Y</td>\n",
       "      <td>270000.0</td>\n",
       "      <td>Working</td>\n",
       "      <td>Higher education</td>\n",
       "      <td>Married</td>\n",
       "      <td>House / apartment</td>\n",
       "      <td>-16872</td>\n",
       "      <td>-769</td>\n",
       "      <td>2.0</td>\n",
       "      <td>0</td>\n",
       "      <td>6</td>\n",
       "      <td>0</td>\n",
       "      <td>0</td>\n",
       "    </tr>\n",
       "    <tr>\n",
       "      <th>...</th>\n",
       "      <td>...</td>\n",
       "      <td>...</td>\n",
       "      <td>...</td>\n",
       "      <td>...</td>\n",
       "      <td>...</td>\n",
       "      <td>...</td>\n",
       "      <td>...</td>\n",
       "      <td>...</td>\n",
       "      <td>...</td>\n",
       "      <td>...</td>\n",
       "      <td>...</td>\n",
       "      <td>...</td>\n",
       "      <td>...</td>\n",
       "      <td>...</td>\n",
       "      <td>...</td>\n",
       "    </tr>\n",
       "    <tr>\n",
       "      <th>9692</th>\n",
       "      <td>F</td>\n",
       "      <td>N</td>\n",
       "      <td>N</td>\n",
       "      <td>180000.0</td>\n",
       "      <td>Pensioner</td>\n",
       "      <td>secondary</td>\n",
       "      <td>Married</td>\n",
       "      <td>House / apartment</td>\n",
       "      <td>-20600</td>\n",
       "      <td>-198</td>\n",
       "      <td>2.0</td>\n",
       "      <td>0</td>\n",
       "      <td>20</td>\n",
       "      <td>0</td>\n",
       "      <td>0</td>\n",
       "    </tr>\n",
       "    <tr>\n",
       "      <th>9693</th>\n",
       "      <td>F</td>\n",
       "      <td>N</td>\n",
       "      <td>Y</td>\n",
       "      <td>112500.0</td>\n",
       "      <td>Working</td>\n",
       "      <td>secondary</td>\n",
       "      <td>Married</td>\n",
       "      <td>House / apartment</td>\n",
       "      <td>-15837</td>\n",
       "      <td>-2694</td>\n",
       "      <td>2.0</td>\n",
       "      <td>8</td>\n",
       "      <td>10</td>\n",
       "      <td>0</td>\n",
       "      <td>0</td>\n",
       "    </tr>\n",
       "    <tr>\n",
       "      <th>9694</th>\n",
       "      <td>M</td>\n",
       "      <td>Y</td>\n",
       "      <td>Y</td>\n",
       "      <td>90000.0</td>\n",
       "      <td>Working</td>\n",
       "      <td>secondary</td>\n",
       "      <td>Married</td>\n",
       "      <td>House / apartment</td>\n",
       "      <td>-19101</td>\n",
       "      <td>-1721</td>\n",
       "      <td>2.0</td>\n",
       "      <td>0</td>\n",
       "      <td>16</td>\n",
       "      <td>5</td>\n",
       "      <td>0</td>\n",
       "    </tr>\n",
       "    <tr>\n",
       "      <th>9695</th>\n",
       "      <td>F</td>\n",
       "      <td>N</td>\n",
       "      <td>Y</td>\n",
       "      <td>157500.0</td>\n",
       "      <td>Pensioner</td>\n",
       "      <td>Higher education</td>\n",
       "      <td>Married</td>\n",
       "      <td>House / apartment</td>\n",
       "      <td>-12387</td>\n",
       "      <td>-1325</td>\n",
       "      <td>2.0</td>\n",
       "      <td>14</td>\n",
       "      <td>8</td>\n",
       "      <td>0</td>\n",
       "      <td>0</td>\n",
       "    </tr>\n",
       "    <tr>\n",
       "      <th>9696</th>\n",
       "      <td>M</td>\n",
       "      <td>N</td>\n",
       "      <td>Y</td>\n",
       "      <td>112500.0</td>\n",
       "      <td>Working</td>\n",
       "      <td>secondary</td>\n",
       "      <td>Single</td>\n",
       "      <td>House / apartment</td>\n",
       "      <td>-9188</td>\n",
       "      <td>-1193</td>\n",
       "      <td>1.0</td>\n",
       "      <td>0</td>\n",
       "      <td>13</td>\n",
       "      <td>0</td>\n",
       "      <td>0</td>\n",
       "    </tr>\n",
       "  </tbody>\n",
       "</table>\n",
       "<p>9697 rows × 15 columns</p>\n",
       "</div>"
      ],
      "text/plain": [
       "     CODE_GENDER FLAG_OWN_CAR FLAG_OWN_REALTY  AMT_INCOME_TOTAL  \\\n",
       "0              M            Y               Y          427500.0   \n",
       "1              M            Y               Y          112500.0   \n",
       "2              F            N               Y          270000.0   \n",
       "3              F            N               Y          283500.0   \n",
       "4              M            Y               Y          270000.0   \n",
       "...          ...          ...             ...               ...   \n",
       "9692           F            N               N          180000.0   \n",
       "9693           F            N               Y          112500.0   \n",
       "9694           M            Y               Y           90000.0   \n",
       "9695           F            N               Y          157500.0   \n",
       "9696           M            N               Y          112500.0   \n",
       "\n",
       "     NAME_INCOME_TYPE NAME_EDUCATION_TYPE NAME_FAMILY_STATUS  \\\n",
       "0             Working    Higher education            Married   \n",
       "1             Working           secondary            Married   \n",
       "2             Working           secondary             Single   \n",
       "3           Pensioner    Higher education             Single   \n",
       "4             Working    Higher education            Married   \n",
       "...               ...                 ...                ...   \n",
       "9692        Pensioner           secondary            Married   \n",
       "9693          Working           secondary            Married   \n",
       "9694          Working           secondary            Married   \n",
       "9695        Pensioner    Higher education            Married   \n",
       "9696          Working           secondary             Single   \n",
       "\n",
       "      NAME_HOUSING_TYPE  DAYS_BIRTH  DAYS_EMPLOYED  CNT_FAM_MEMBERS  paid off  \\\n",
       "0     House / apartment      -12005          -4542              2.0        13   \n",
       "1     House / apartment      -21474          -1134              2.0         7   \n",
       "2     House / apartment      -19110          -3051              1.0         0   \n",
       "3     House / apartment      -22464         365243              1.0         0   \n",
       "4     House / apartment      -16872           -769              2.0         0   \n",
       "...                 ...         ...            ...              ...       ...   \n",
       "9692  House / apartment      -20600           -198              2.0         0   \n",
       "9693  House / apartment      -15837          -2694              2.0         8   \n",
       "9694  House / apartment      -19101          -1721              2.0         0   \n",
       "9695  House / apartment      -12387          -1325              2.0        14   \n",
       "9696  House / apartment       -9188          -1193              1.0         0   \n",
       "\n",
       "      #_of_pastdues  no_loan  target  \n",
       "0                 2        1       1  \n",
       "1                 7       16       0  \n",
       "2                 2        3       0  \n",
       "3                14        3       0  \n",
       "4                 6        0       0  \n",
       "...             ...      ...     ...  \n",
       "9692             20        0       0  \n",
       "9693             10        0       0  \n",
       "9694             16        5       0  \n",
       "9695              8        0       0  \n",
       "9696             13        0       0  \n",
       "\n",
       "[9697 rows x 15 columns]"
      ]
     },
     "execution_count": 124,
     "metadata": {},
     "output_type": "execute_result"
    }
   ],
   "source": [
    "m"
   ]
  },
  {
   "cell_type": "code",
   "execution_count": 125,
   "id": "48f7cfe5",
   "metadata": {},
   "outputs": [
    {
     "data": {
      "text/plain": [
       "(89840, 12)"
      ]
     },
     "execution_count": 125,
     "metadata": {},
     "output_type": "execute_result"
    }
   ],
   "source": [
    "dt.shape"
   ]
  },
  {
   "cell_type": "code",
   "execution_count": 126,
   "id": "44746c62",
   "metadata": {},
   "outputs": [
    {
     "data": {
      "text/plain": [
       "(1048575, 3)"
      ]
     },
     "execution_count": 126,
     "metadata": {},
     "output_type": "execute_result"
    }
   ],
   "source": [
    "df.shape"
   ]
  },
  {
   "cell_type": "code",
   "execution_count": 127,
   "id": "340f82b9",
   "metadata": {},
   "outputs": [
    {
     "data": {
      "text/plain": [
       "(9697, 15)"
      ]
     },
     "execution_count": 127,
     "metadata": {},
     "output_type": "execute_result"
    }
   ],
   "source": [
    "m.shape"
   ]
  },
  {
   "cell_type": "code",
   "execution_count": 128,
   "id": "117a6414",
   "metadata": {},
   "outputs": [
    {
     "name": "stdout",
     "output_type": "stream",
     "text": [
      "<class 'pandas.core.frame.DataFrame'>\n",
      "Int64Index: 9697 entries, 0 to 9696\n",
      "Data columns (total 15 columns):\n",
      " #   Column               Non-Null Count  Dtype  \n",
      "---  ------               --------------  -----  \n",
      " 0   CODE_GENDER          9697 non-null   object \n",
      " 1   FLAG_OWN_CAR         9697 non-null   object \n",
      " 2   FLAG_OWN_REALTY      9697 non-null   object \n",
      " 3   AMT_INCOME_TOTAL     9697 non-null   float64\n",
      " 4   NAME_INCOME_TYPE     9697 non-null   object \n",
      " 5   NAME_EDUCATION_TYPE  9697 non-null   object \n",
      " 6   NAME_FAMILY_STATUS   9697 non-null   object \n",
      " 7   NAME_HOUSING_TYPE    9697 non-null   object \n",
      " 8   DAYS_BIRTH           9697 non-null   int64  \n",
      " 9   DAYS_EMPLOYED        9697 non-null   int64  \n",
      " 10  CNT_FAM_MEMBERS      9697 non-null   float64\n",
      " 11  paid off             9697 non-null   int64  \n",
      " 12  #_of_pastdues        9697 non-null   int64  \n",
      " 13  no_loan              9697 non-null   int64  \n",
      " 14  target               9697 non-null   int64  \n",
      "dtypes: float64(2), int64(6), object(7)\n",
      "memory usage: 1.2+ MB\n"
     ]
    }
   ],
   "source": [
    "m.info()"
   ]
  },
  {
   "cell_type": "code",
   "execution_count": 129,
   "id": "07bf3bd8",
   "metadata": {},
   "outputs": [],
   "source": [
    "#handling categorical value\n",
    "from sklearn.preprocessing import LabelEncoder\n",
    "a = LabelEncoder()\n",
    "m['CODE_GENDER'] = a.fit_transform(m['CODE_GENDER'])\n",
    "m['FLAG_OWN_CAR'] = a.fit_transform(m['FLAG_OWN_CAR'])\n",
    "m['FLAG_OWN_REALTY'] = a.fit_transform(m['FLAG_OWN_REALTY'])\n",
    "m['NAME_INCOME_TYPE'] = a.fit_transform(m['NAME_INCOME_TYPE'])\n",
    "m['NAME_EDUCATION_TYPE'] = a.fit_transform(m['NAME_EDUCATION_TYPE'])\n",
    "m['NAME_FAMILY_STATUS'] = a.fit_transform(m['NAME_FAMILY_STATUS'])\n",
    "m['NAME_HOUSING_TYPE'] = a.fit_transform(m['NAME_HOUSING_TYPE'])\n"
   ]
  },
  {
   "cell_type": "code",
   "execution_count": 130,
   "id": "676c211a",
   "metadata": {},
   "outputs": [],
   "source": [
    "#spliting our data\n",
    "from sklearn.model_selection import train_test_split\n",
    "x = m[m.drop('target',axis=1).columns]\n",
    "y = m['target']\n",
    "x_train,x_test,y_train,y_test = train_test_split(x,y,train_size=0.75,random_state=0)"
   ]
  },
  {
   "cell_type": "code",
   "execution_count": 131,
   "id": "fc7114d2",
   "metadata": {},
   "outputs": [],
   "source": [
    "#model building\n",
    "#logisticRegression\n",
    "from sklearn.linear_model import LogisticRegression\n",
    "from sklearn.metrics import classification_report, confusion_matrix\n",
    "def logisticRegression(x_train, x_test, y_train, y_test):\n",
    "    # creating the model\n",
    "    model = LogisticRegression()\n",
    "    # feeding the training set into the model\n",
    "    model.fit(x_train, y_train)\n",
    "    # predicting the results for the test set\n",
    "    y_pred = model.predict(x_test)\n",
    "    # calculating the training and testing accuracies\n",
    "    print('***logisticRegression***')\n",
    "    print(\"Training accuracy :\", model.score(x_train, y_train))\n",
    "    print(\"Testing accuracy :\", model.score(x_test, y_test))\n",
    "    # classification report\n",
    "    print(classification_report(y_test, y_pred))\n",
    "    # confusion matrix\n",
    "    print(confusion_matrix(y_test, y_pred))"
   ]
  },
  {
   "cell_type": "code",
   "execution_count": 132,
   "id": "44fbad6c",
   "metadata": {},
   "outputs": [],
   "source": [
    "from sklearn.linear_model import SGDClassifier\n",
    "def SGD(x_train, x_test, y_train, y_test):\n",
    "    # creating the model\n",
    "    model = SGDClassifier(penalty=None)\n",
    "    # feeding the training model into the model\n",
    "    model.fit(x_train, y_train)\n",
    "    # predicting the values for the test set\n",
    "    y_pred = model.predict(x_test)\n",
    "    print('***Stochastic Gradient Descent Classifier***')\n",
    "    print(\"Training accuracy :\", model.score(x_train, y_train))\n",
    "    print(\"Testing accuracy :\", model.score(x_test, y_test))\n",
    "    # classification report\n",
    "    print(classification_report(y_test, y_pred))\n",
    "    # confusion matrix\n",
    "    print(confusion_matrix(y_test, y_pred))"
   ]
  },
  {
   "cell_type": "code",
   "execution_count": 133,
   "id": "dc704cc9",
   "metadata": {},
   "outputs": [],
   "source": [
    "from sklearn.svm import SVC\n",
    "def SVClassifier(x_train, x_test, y_train, y_test):\n",
    "    # creating the model\n",
    "    model = SVC()\n",
    "    # feeding the training set into the model\n",
    "    model.fit(x_train, y_train)\n",
    "    # predicting the results for the test set\n",
    "    y_pred = model.predict(x_test)\n",
    "    # calculating the training and testing accuracies\n",
    "    print('***Support Vector Classifier***')\n",
    "    print(\"Training accuracy :\", model.score(x_train, y_train))\n",
    "    print(\"Testing accuracy :\", model.score(x_test, y_test))\n",
    "    # classification report\n",
    "    print(classification_report(y_test, y_pred))\n",
    "    # confusion matrix\n",
    "    print(confusion_matrix(y_test, y_pred))"
   ]
  },
  {
   "cell_type": "code",
   "execution_count": 134,
   "id": "5d140507",
   "metadata": {},
   "outputs": [],
   "source": [
    "from sklearn.tree import DecisionTreeClassifier\n",
    "def decisionTree(x_train, x_test, y_train, y_test):\n",
    "    dt=DecisionTreeClassifier()\n",
    "    dt.fit(x_train,y_train)\n",
    "    yPred = dt.predict(x_test)\n",
    "    print('***DecisionTreeClassifier***')\n",
    "    print(\"Training accuracy :\", dt.score(x_train, y_train))\n",
    "    print(\"Testing accuracy :\", dt.score(x_test, y_test))\n",
    "    print('Confusion matrix')\n",
    "    print(confusion_matrix(y_test,yPred))\n",
    "    print('Classification report')\n",
    "    print(classification_report(y_test,yPred))"
   ]
  },
  {
   "cell_type": "code",
   "execution_count": 135,
   "id": "99a70b12",
   "metadata": {},
   "outputs": [],
   "source": [
    "from sklearn.ensemble import RandomForestClassifier\n",
    "def randomForest(x_train, x_test, y_train, y_test):\n",
    "    rf = RandomForestClassifier()\n",
    "    rf.fit(x_train,y_train)\n",
    "    yPred = rf.predict(x_test)\n",
    "    print('***RandomForestClassifier***')\n",
    "    print(\"Training accuracy :\", rf.score(x_train, y_train))\n",
    "    print(\"Testing accuracy :\", rf.score(x_test, y_test))\n",
    "    print('Confusion matrix')\n",
    "    print(confusion_matrix(y_test,yPred))\n",
    "    print('Classification report')\n",
    "    print(classification_report(y_test,yPred))"
   ]
  },
  {
   "cell_type": "code",
   "execution_count": 136,
   "id": "b9a6bfec",
   "metadata": {},
   "outputs": [],
   "source": [
    "from sklearn.ensemble import GradientBoostingClassifier\n",
    "def xgboost(x_train, x_test, y_train, y_test):\n",
    "    xg = GradientBoostingClassifier()\n",
    "    xg.fit(x_train,y_train)\n",
    "    yPred = xg.predict(x_test)\n",
    "    print('***GradientBoostingClassifier***')\n",
    "    print(\"Training accuracy :\", xg.score(x_train, y_train))\n",
    "    print(\"Testing accuracy :\", xg.score(x_test, y_test))\n",
    "    print('Confusion matrix')\n",
    "    print(confusion_matrix(y_test,yPred))\n",
    "    print('Classification report')\n",
    "    print(classification_report(y_test,yPred))"
   ]
  },
  {
   "cell_type": "code",
   "execution_count": 137,
   "id": "02c64897",
   "metadata": {},
   "outputs": [],
   "source": [
    "def compareModel(x_train, x_test, y_train, y_test):\n",
    "    logisticRegression(x_train, x_test, y_train, y_test)\n",
    "    print('-'*100)\n",
    "    SGD(x_train, x_test, y_train, y_test)\n",
    "    print('-'*100)\n",
    "    SVClassifier(x_train, x_test, y_train, y_test)\n",
    "    print('-'*100)\n",
    "    decisionTree(x_train, x_test, y_train, y_test)\n",
    "    print('-'*100)\n",
    "    randomForest(x_train, x_test, y_train, y_test)\n",
    "    print('-'*100)\n",
    "    xgboost(x_train, x_test, y_train, y_test)\n",
    "    print('-'*100)"
   ]
  },
  {
   "cell_type": "code",
   "execution_count": 138,
   "id": "2b081bb0",
   "metadata": {},
   "outputs": [
    {
     "name": "stderr",
     "output_type": "stream",
     "text": [
      "C:\\Users\\jagad\\anaconda3\\lib\\site-packages\\sklearn\\linear_model\\_logistic.py:814: ConvergenceWarning: lbfgs failed to converge (status=1):\n",
      "STOP: TOTAL NO. of ITERATIONS REACHED LIMIT.\n",
      "\n",
      "Increase the number of iterations (max_iter) or scale the data as shown in:\n",
      "    https://scikit-learn.org/stable/modules/preprocessing.html\n",
      "Please also refer to the documentation for alternative solver options:\n",
      "    https://scikit-learn.org/stable/modules/linear_model.html#logistic-regression\n",
      "  n_iter_i = _check_optimize_result(\n"
     ]
    },
    {
     "name": "stdout",
     "output_type": "stream",
     "text": [
      "***logisticRegression***\n",
      "Training accuracy : 0.9423817381738174\n",
      "Testing accuracy : 0.9369072164948453\n",
      "              precision    recall  f1-score   support\n",
      "\n",
      "           0       0.94      0.95      0.94      1324\n",
      "           1       0.94      0.92      0.93      1101\n",
      "\n",
      "    accuracy                           0.94      2425\n",
      "   macro avg       0.94      0.94      0.94      2425\n",
      "weighted avg       0.94      0.94      0.94      2425\n",
      "\n",
      "[[1256   68]\n",
      " [  85 1016]]\n",
      "----------------------------------------------------------------------------------------------------\n",
      "***Stochastic Gradient Descent Classifier***\n",
      "Training accuracy : 0.5446919691969196\n",
      "Testing accuracy : 0.5459793814432989\n",
      "              precision    recall  f1-score   support\n",
      "\n",
      "           0       0.55      1.00      0.71      1324\n",
      "           1       0.00      0.00      0.00      1101\n",
      "\n",
      "    accuracy                           0.55      2425\n",
      "   macro avg       0.27      0.50      0.35      2425\n",
      "weighted avg       0.30      0.55      0.39      2425\n",
      "\n",
      "[[1324    0]\n",
      " [1101    0]]\n",
      "----------------------------------------------------------------------------------------------------\n"
     ]
    },
    {
     "name": "stderr",
     "output_type": "stream",
     "text": [
      "C:\\Users\\jagad\\anaconda3\\lib\\site-packages\\sklearn\\metrics\\_classification.py:1318: UndefinedMetricWarning: Precision and F-score are ill-defined and being set to 0.0 in labels with no predicted samples. Use `zero_division` parameter to control this behavior.\n",
      "  _warn_prf(average, modifier, msg_start, len(result))\n",
      "C:\\Users\\jagad\\anaconda3\\lib\\site-packages\\sklearn\\metrics\\_classification.py:1318: UndefinedMetricWarning: Precision and F-score are ill-defined and being set to 0.0 in labels with no predicted samples. Use `zero_division` parameter to control this behavior.\n",
      "  _warn_prf(average, modifier, msg_start, len(result))\n",
      "C:\\Users\\jagad\\anaconda3\\lib\\site-packages\\sklearn\\metrics\\_classification.py:1318: UndefinedMetricWarning: Precision and F-score are ill-defined and being set to 0.0 in labels with no predicted samples. Use `zero_division` parameter to control this behavior.\n",
      "  _warn_prf(average, modifier, msg_start, len(result))\n"
     ]
    },
    {
     "name": "stdout",
     "output_type": "stream",
     "text": [
      "***Support Vector Classifier***\n",
      "Training accuracy : 0.5446919691969196\n",
      "Testing accuracy : 0.5459793814432989\n",
      "              precision    recall  f1-score   support\n",
      "\n",
      "           0       0.55      1.00      0.71      1324\n",
      "           1       0.00      0.00      0.00      1101\n",
      "\n",
      "    accuracy                           0.55      2425\n",
      "   macro avg       0.27      0.50      0.35      2425\n",
      "weighted avg       0.30      0.55      0.39      2425\n",
      "\n",
      "[[1324    0]\n",
      " [1101    0]]\n",
      "----------------------------------------------------------------------------------------------------\n",
      "***DecisionTreeClassifier***\n",
      "Training accuracy : 1.0\n",
      "Testing accuracy : 0.9950515463917525\n",
      "Confusion matrix\n",
      "[[1318    6]\n",
      " [   6 1095]]\n",
      "Classification report\n",
      "              precision    recall  f1-score   support\n",
      "\n",
      "           0       1.00      1.00      1.00      1324\n",
      "           1       0.99      0.99      0.99      1101\n",
      "\n",
      "    accuracy                           1.00      2425\n",
      "   macro avg       1.00      1.00      1.00      2425\n",
      "weighted avg       1.00      1.00      1.00      2425\n",
      "\n",
      "----------------------------------------------------------------------------------------------------\n"
     ]
    },
    {
     "name": "stderr",
     "output_type": "stream",
     "text": [
      "C:\\Users\\jagad\\anaconda3\\lib\\site-packages\\sklearn\\metrics\\_classification.py:1318: UndefinedMetricWarning: Precision and F-score are ill-defined and being set to 0.0 in labels with no predicted samples. Use `zero_division` parameter to control this behavior.\n",
      "  _warn_prf(average, modifier, msg_start, len(result))\n",
      "C:\\Users\\jagad\\anaconda3\\lib\\site-packages\\sklearn\\metrics\\_classification.py:1318: UndefinedMetricWarning: Precision and F-score are ill-defined and being set to 0.0 in labels with no predicted samples. Use `zero_division` parameter to control this behavior.\n",
      "  _warn_prf(average, modifier, msg_start, len(result))\n",
      "C:\\Users\\jagad\\anaconda3\\lib\\site-packages\\sklearn\\metrics\\_classification.py:1318: UndefinedMetricWarning: Precision and F-score are ill-defined and being set to 0.0 in labels with no predicted samples. Use `zero_division` parameter to control this behavior.\n",
      "  _warn_prf(average, modifier, msg_start, len(result))\n"
     ]
    },
    {
     "name": "stdout",
     "output_type": "stream",
     "text": [
      "***RandomForestClassifier***\n",
      "Training accuracy : 1.0\n",
      "Testing accuracy : 0.9855670103092784\n",
      "Confusion matrix\n",
      "[[1310   14]\n",
      " [  21 1080]]\n",
      "Classification report\n",
      "              precision    recall  f1-score   support\n",
      "\n",
      "           0       0.98      0.99      0.99      1324\n",
      "           1       0.99      0.98      0.98      1101\n",
      "\n",
      "    accuracy                           0.99      2425\n",
      "   macro avg       0.99      0.99      0.99      2425\n",
      "weighted avg       0.99      0.99      0.99      2425\n",
      "\n",
      "----------------------------------------------------------------------------------------------------\n",
      "***GradientBoostingClassifier***\n",
      "Training accuracy : 0.9984873487348734\n",
      "Testing accuracy : 0.9950515463917525\n",
      "Confusion matrix\n",
      "[[1320    4]\n",
      " [   8 1093]]\n",
      "Classification report\n",
      "              precision    recall  f1-score   support\n",
      "\n",
      "           0       0.99      1.00      1.00      1324\n",
      "           1       1.00      0.99      0.99      1101\n",
      "\n",
      "    accuracy                           1.00      2425\n",
      "   macro avg       1.00      0.99      1.00      2425\n",
      "weighted avg       1.00      1.00      1.00      2425\n",
      "\n",
      "----------------------------------------------------------------------------------------------------\n"
     ]
    }
   ],
   "source": [
    "compareModel(x_train,x_test,y_train,y_test)"
   ]
  },
  {
   "cell_type": "code",
   "execution_count": 139,
   "id": "12605f2b",
   "metadata": {},
   "outputs": [],
   "source": [
    "dt=DecisionTreeClassifier()\n",
    "dt.fit(x_train,y_train)\n",
    "yPred = dt.predict(x_test)"
   ]
  },
  {
   "cell_type": "code",
   "execution_count": 140,
   "id": "6bb63aab",
   "metadata": {},
   "outputs": [],
   "source": [
    "import pickle\n",
    "pickle.dump(dt,open(\"model.pkl\",\"wb\"))"
   ]
  },
  {
   "cell_type": "code",
   "execution_count": null,
   "id": "ae6bbbbd",
   "metadata": {},
   "outputs": [],
   "source": []
  },
  {
   "cell_type": "code",
   "execution_count": null,
   "id": "33965da8",
   "metadata": {},
   "outputs": [],
   "source": []
  },
  {
   "cell_type": "code",
   "execution_count": null,
   "id": "25cdd923",
   "metadata": {},
   "outputs": [],
   "source": []
  }
 ],
 "metadata": {
  "kernelspec": {
   "display_name": "Python 3 (ipykernel)",
   "language": "python",
   "name": "python3"
  },
  "language_info": {
   "codemirror_mode": {
    "name": "ipython",
    "version": 3
   },
   "file_extension": ".py",
   "mimetype": "text/x-python",
   "name": "python",
   "nbconvert_exporter": "python",
   "pygments_lexer": "ipython3",
   "version": "3.9.12"
  }
 },
 "nbformat": 4,
 "nbformat_minor": 5
}
